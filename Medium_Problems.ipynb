{
 "cells": [
  {
   "cell_type": "markdown",
   "metadata": {},
   "source": [
    "## 1. Longest Substring Without Repeating Characters [link](https://leetcode.com/problems/longest-substring-without-repeating-characters/descri)\n",
    "Given a string s, find the length of the longest substring without repeating characters.\n",
    "* Example 1:\n",
    "Input: s = \"abcabcbb\"\n",
    "Output: 3\n",
    "Explanation: The answer is \"abc\", with the length of 3.\n",
    "* Example 2:Input: s = \"bbbbb\"\n",
    "Output: 1\n",
    "Explanation: The answer is \"b\", with the length of 1.\n",
    "* Example 3:\n",
    "Input: s = \"pwwkew\"\n",
    "Output: 3\n",
    "Explanation: The answer is \"wke\", with the length of 3.\n",
    "Notice that the answer must be a substring, \"pwke\" is a subsequence and not a substring.\n",
    " \n",
    "\n",
    "#### Constraints:\n",
    "* 0 <= s.length <= 5 * 10^4\n",
    "* s consists of English letters, digits, symbols and spaces."
   ]
  },
  {
   "cell_type": "code",
   "execution_count": 1,
   "metadata": {},
   "outputs": [
    {
     "data": {
      "text/plain": [
       "3"
      ]
     },
     "execution_count": 1,
     "metadata": {},
     "output_type": "execute_result"
    }
   ],
   "source": [
    "\n",
    "def lengthOfLongestSubstring(s: str) -> int:\n",
    "    max_len =0\n",
    "    seq = []\n",
    "    for char in s:\n",
    "        if char not in seq:\n",
    "            seq.append(char)\n",
    "            max_len = max(max_len,len(seq))\n",
    "        else:\n",
    "            index = seq .index(char)\n",
    "            if(len(seq)):\n",
    "                seq = seq[index+1:]\n",
    "                seq.append(char)\n",
    "                max_len = max(max_len,len(seq))\n",
    "            else:\n",
    "                seq = [char]\n",
    "                max_len = max(max_len,len(seq))\n",
    "    return max(max_len,len(seq))\n",
    "\n",
    "lengthOfLongestSubstring(\"dvdf\")\n"
   ]
  },
  {
   "cell_type": "code",
   "execution_count": null,
   "metadata": {},
   "outputs": [],
   "source": []
  }
 ],
 "metadata": {
  "kernelspec": {
   "display_name": "Python 3",
   "language": "python",
   "name": "python3"
  },
  "language_info": {
   "codemirror_mode": {
    "name": "ipython",
    "version": 3
   },
   "file_extension": ".py",
   "mimetype": "text/x-python",
   "name": "python",
   "nbconvert_exporter": "python",
   "pygments_lexer": "ipython3",
   "version": "3.11.1"
  }
 },
 "nbformat": 4,
 "nbformat_minor": 2
}
