{
 "cells": [
  {
   "cell_type": "markdown",
   "metadata": {},
   "source": [
    "## 1. Two Sum [link](https://leetcode.com/problems/two-sum/description/)\n",
    "Given an array of integers nums and an integer target, return indices of the two numbers such that they add up to target.\n",
    "\n",
    "You may assume that each input would have exactly one solution, and you may not use the same element twice.\n",
    "\n",
    "You can return the answer in any order.\n",
    "\n",
    " \n",
    "\n",
    "* Example 1:\n",
    "Input: nums = [2,7,11,15], target = 9\n",
    "Output: [0,1]\n",
    "Explanation: Because nums[0] + nums[1] == 9, we return [0, 1].\n",
    "* Example 2:\n",
    "Input: nums = [3,2,4], target = 6\n",
    "Output: [1,2]\n",
    "* Example 3:\n",
    "Input: nums = [3,3], target = 6\n",
    "Output: [0,1]\n",
    " \n",
    "\n",
    "#### Constraints:\n",
    "\n",
    "* 2 <= nums.length <= 10^4\n",
    "* -10^9 <= nums[i] <= 10^9\n",
    "* -10^9 <= target <= 10^9\n",
    "* Only one valid answer exists.\n"
   ]
  },
  {
   "cell_type": "code",
   "execution_count": null,
   "metadata": {},
   "outputs": [],
   "source": [
    "class Solution:\n",
    "    def twoSum(self, nums: list[int], target: int) -> list[int]:\n",
    "        output = []\n",
    "        for k in range(len(nums)):\n",
    "            for i in range(k+1,len(nums)):\n",
    "                if nums[k]+ nums[i]== target:\n",
    "                   \n",
    "                    if k not in output:\n",
    "                        output.append(k)\n",
    "                   \n",
    "                    output.append(i)\n",
    "\n",
    "        return output\n",
    "    \n",
    "    \n"
   ]
  },
  {
   "cell_type": "markdown",
   "metadata": {},
   "source": [
    "### 2.  Palindrome Number [link](https://leetcode.com/problems/palindrome-number/description/)\n",
    "Given an integer x, return true if x is a palindrome, and false otherwise.\n",
    "\n",
    "* Example 1:\n",
    "Input: x = 121\n",
    "Output: true\n",
    "Explanation: 121 reads as 121 from left to right and from right to left.\n",
    "* Example 2:\n",
    "Input: x = -121\n",
    "Output: false\n",
    "Explanation: From left to right, it reads -121. From right to left, it becomes 121-. Therefore it is not a palindrome.\n",
    "* Example 3:\n",
    "Input: x = 10\n",
    "Output: false\n",
    "Explanation: Reads 01 from right to left. Therefore it is not a palindrome.\n",
    " \n",
    "\n",
    "* Constraints: -231 <= x <= 231 - 1"
   ]
  },
  {
   "cell_type": "code",
   "execution_count": 1,
   "metadata": {},
   "outputs": [],
   "source": [
    "class Solution:\n",
    "    def isPalindrome(self, x: int) -> bool:  \n",
    "        str_num = str(x)\n",
    "        if x=='0':\n",
    "            return False\n",
    "        else:\n",
    "            length = len(str_num)\n",
    "            for i in range(int(length/2)):\n",
    "                if str_num[i] ==str_num[-(i+1)]:\n",
    "                    continue\n",
    "                else:\n",
    "                    return False\n",
    "            return True"
   ]
  },
  {
   "cell_type": "markdown",
   "metadata": {},
   "source": [
    "### 3. Search Insert Position\n",
    "\n",
    "\n",
    "Given a sorted array of distinct integers and a target value, return the index if the target is found. If not, return the index where it would be if it were inserted in order.\n",
    "\n",
    "* You must write an algorithm with O(log n) runtime complexity.\n",
    "* Example 1:Input: nums = [1,3,5,6], target = 5\n",
    "Output: 2\n",
    "* Example 2:\n",
    "Input: nums = [1,3,5,6], target = 2\n",
    "Output: 1\n",
    "* Example 3:\n",
    "Input: nums = [1,3,5,6], target = 7\n",
    "Output: 4\n",
    " \n",
    "* Constraints:\n",
    "1 <= nums.length <= 104,\n",
    " -104 <= nums[i] <= 104, nums contains distinct values sorted in ascending order.\n",
    "-104 <= target <= 104"
   ]
  },
  {
   "cell_type": "code",
   "execution_count": 2,
   "metadata": {},
   "outputs": [],
   "source": [
    "class Solution:\n",
    "    def insert (self, nums: list[int], target: int)-> list:\n",
    "        \n",
    "        if(len(nums)==1):\n",
    "            if(target>nums[0]):\n",
    "                return nums +[target]\n",
    "            else:\n",
    "                return [target]+nums\n",
    "     \n",
    "        elif(target< nums[int(len(nums)/2)]):\n",
    "            \n",
    "            num_list = self.insert(nums[:int(len(nums)/2)],target)\n",
    "            return   num_list + nums[int(len(nums)/2):]\n",
    "       \n",
    "        elif (target > nums[int(len(nums)/2)]):\n",
    "            num_list = self.insert(nums[int(len(nums)/2):],target)\n",
    "            return nums[:int(len(nums)/2)]+ num_list\n",
    " \n",
    " \n",
    "    def searchInsert(self, nums: list[int], target: int) -> int:\n",
    "        if target in nums:\n",
    "            return nums.index(target)\n",
    " \n",
    "        else:\n",
    "            insertion = self.insert(nums,target)\n",
    "           \n",
    "            return insertion.index(target)  "
   ]
  },
  {
   "cell_type": "code",
   "execution_count": null,
   "metadata": {},
   "outputs": [],
   "source": []
  }
 ],
 "metadata": {
  "kernelspec": {
   "display_name": "Python 3",
   "language": "python",
   "name": "python3"
  },
  "language_info": {
   "codemirror_mode": {
    "name": "ipython",
    "version": 3
   },
   "file_extension": ".py",
   "mimetype": "text/x-python",
   "name": "python",
   "nbconvert_exporter": "python",
   "pygments_lexer": "ipython3",
   "version": "3.11.1"
  }
 },
 "nbformat": 4,
 "nbformat_minor": 2
}
